{
 "cells": [
  {
   "cell_type": "code",
   "execution_count": 1,
   "metadata": {},
   "outputs": [],
   "source": [
    "import os\n",
    "import sys\n",
    "import tiktoken\n",
    "\n",
    "from dotenv import load_dotenv\n",
    "from openai import OpenAI\n",
    "\n",
    "load_dotenv()  # take environment variables from .env.\n",
    "openai_key = os.getenv(\"OPENAI_API_KEY\")"
   ]
  },
  {
   "cell_type": "code",
   "execution_count": 2,
   "metadata": {},
   "outputs": [],
   "source": [
    "\n",
    "client = OpenAI()\n",
    "# defaults to getting the key using os.environ.get(\"OPENAI_API_KEY\")\n",
    "# if you saved the key under a different environment variable name, you can do something like:\n",
    "# client = OpenAI(\n",
    "#   api_key=os.environ.get(\"CUSTOM_ENV_NAME\"),\n",
    "# )"
   ]
  },
  {
   "cell_type": "code",
   "execution_count": 3,
   "metadata": {},
   "outputs": [
    {
     "name": "stdout",
     "output_type": "stream",
     "text": [
      "ChatCompletionMessage(content=\"In the realm of code, where logic reigns,\\nThere dwells a concept that oft remains,\\nRecursion, a mysterious dance,\\nWhere functions call on themselves, perchance.\\n\\nLike a mirror reflecting its form,\\nRecursion is coding's intricate norm,\\nA process looping within its own frame,\\nDelving deep into functions, tame.\\n\\nThrough iterations, it repeats its course,\\nUnraveling problems with elegant force,\\nDividing tasks into simpler parts,\\nA recursive mind, weaving intricate arts.\\n\\nWith each call, a path is spun,\\nUntil the base case is finally won,\\nA concept complex, yet pure and true,\\nRecursion in code, a mystical view.\\n\\nSo embrace this loop of infinite grace,\\nIn programming, it finds its place,\\nA poetic dance of logic and flow,\\nRecursion, in code, a beauty to know.\", role='assistant', function_call=None, tool_calls=None)\n"
     ]
    }
   ],
   "source": [
    "\n",
    "completion = client.chat.completions.create(\n",
    "  model=\"gpt-3.5-turbo\",\n",
    "  messages=[\n",
    "    {\"role\": \"system\", \"content\": \"You are a poetic assistant, skilled in explaining complex programming concepts with creative flair.\"},\n",
    "    {\"role\": \"user\", \"content\": \"Compose a poem that explains the concept of recursion in programming.\"}\n",
    "  ]\n",
    ")\n",
    "\n",
    "print(completion.choices[0].message)"
   ]
  }
 ],
 "metadata": {
  "kernelspec": {
   "display_name": "Python 3",
   "language": "python",
   "name": "python3"
  },
  "language_info": {
   "codemirror_mode": {
    "name": "ipython",
    "version": 3
   },
   "file_extension": ".py",
   "mimetype": "text/x-python",
   "name": "python",
   "nbconvert_exporter": "python",
   "pygments_lexer": "ipython3",
   "version": "3.11.7"
  }
 },
 "nbformat": 4,
 "nbformat_minor": 2
}
