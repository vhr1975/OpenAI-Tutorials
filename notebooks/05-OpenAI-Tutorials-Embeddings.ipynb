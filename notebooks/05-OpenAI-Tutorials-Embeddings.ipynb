{
 "cells": [
  {
   "cell_type": "code",
   "execution_count": 23,
   "metadata": {},
   "outputs": [
    {
     "data": {
      "text/plain": [
       "True"
      ]
     },
     "execution_count": 23,
     "metadata": {},
     "output_type": "execute_result"
    }
   ],
   "source": [
    "import numpy as np\n",
    "import os\n",
    "import pandas as pd\n",
    "from openai import OpenAI\n",
    "from dotenv import load_dotenv\n",
    "\n",
    "load_dotenv()  # take environment variables from .env.\n"
   ]
  },
  {
   "cell_type": "code",
   "execution_count": null,
   "metadata": {},
   "outputs": [],
   "source": [
    "client = OpenAI(api_key=os.environ.get(\"OPENAI_API_KEY\"))"
   ]
  },
  {
   "cell_type": "code",
   "execution_count": null,
   "metadata": {},
   "outputs": [],
   "source": [
    "\n",
    "def get_embedding(text, model=\"text-embedding-3-small\"):\n",
    "   text = text.replace(\"\\n\", \" \")\n",
    "   return client.embeddings.create(input = [text], model=model).data[0].embedding\n"
   ]
  },
  {
   "cell_type": "code",
   "execution_count": 12,
   "metadata": {},
   "outputs": [
    {
     "name": "stdout",
     "output_type": "stream",
     "text": [
      "Index(['Time', 'ProductId', 'UserId', 'Score', 'Summary', 'Text'], dtype='object')\n"
     ]
    }
   ],
   "source": [
    "# load & inspect dataset\n",
    "input_datapath = \"data/fine_food_reviews_1k.csv\"  # to save space, we provide a pre-filtered dataset\n",
    "df = pd.read_csv(input_datapath, index_col=0)\n",
    "\n",
    "print(df.columns)\n",
    "\n",
    "# df['ada_embedding'] = df.combined.apply(lambda x: get_embedding(x, model='text-embedding-3-small'))\n",
    "\n",
    "df['combined'] = df['Summary'] + \" \" + df['Text']\n",
    "df['ada_embedding'] = df['combined'].apply(lambda x: get_embedding(x, model='text-embedding-3-small'))"
   ]
  },
  {
   "cell_type": "code",
   "execution_count": 18,
   "metadata": {},
   "outputs": [
    {
     "name": "stdout",
     "output_type": "stream",
     "text": [
      "Index(['Time', 'ProductId', 'UserId', 'Score', 'Summary', 'Text', 'combined',\n",
      "       'ada_embedding'],\n",
      "      dtype='object')\n",
      "         Time   ProductId          UserId  Score  \\\n",
      "0  1351123200  B003XPF9BO  A3R7JR3FMEBXQB      5   \n",
      "1  1351123200  B003JK537S  A3JBPC3WFUT5ZP      1   \n",
      "2  1351123200  B000JMBE7M   AQX1N6A51QOKG      4   \n",
      "3  1351123200  B004AHGBX4  A2UY46X0OSNVUQ      3   \n",
      "4  1351123200  B001BORBHO  A1AFOYZ9HSM2CZ      5   \n",
      "\n",
      "                                             Summary  \\\n",
      "0  where does one  start...and stop... with a tre...   \n",
      "1                                  Arrived in pieces   \n",
      "2          It isn't blanc mange, but isn't bad . . .   \n",
      "3        These also have SALT and it's not sea salt.   \n",
      "4                             Happy with the product   \n",
      "\n",
      "                                                Text  \\\n",
      "0  Wanted to save some to bring to my Chicago fam...   \n",
      "1  Not pleased at all. When I opened the box, mos...   \n",
      "2  I'm not sure that custard is really custard wi...   \n",
      "3  I like the fact that you can see what you're g...   \n",
      "4  My dog was suffering with itchy skin.  He had ...   \n",
      "\n",
      "                                            combined  \\\n",
      "0  where does one  start...and stop... with a tre...   \n",
      "1  Arrived in pieces Not pleased at all. When I o...   \n",
      "2  It isn't blanc mange, but isn't bad . . . I'm ...   \n",
      "3  These also have SALT and it's not sea salt. I ...   \n",
      "4  Happy with the product My dog was suffering wi...   \n",
      "\n",
      "                                       ada_embedding  \n",
      "0  [0.03193098306655884, -0.017797598615288734, -...  \n",
      "1  [0.010076633654534817, 0.04017351195216179, -0...  \n",
      "2  [0.001554574933834374, 0.004289799369871616, -...  \n",
      "3  [-0.01524321362376213, 0.012734594754874706, -...  \n",
      "4  [0.0017268205992877483, -0.06780694425106049, ...  \n"
     ]
    }
   ],
   "source": [
    "print(df.columns)\n",
    "print(df.head())"
   ]
  },
  {
   "cell_type": "code",
   "execution_count": 20,
   "metadata": {},
   "outputs": [],
   "source": [
    "output_dir = 'output'\n",
    "os.makedirs(output_dir, exist_ok=True)"
   ]
  },
  {
   "cell_type": "code",
   "execution_count": 21,
   "metadata": {},
   "outputs": [],
   "source": [
    "df.to_csv('output/embedded_1k_reviews.csv', index=False)"
   ]
  },
  {
   "cell_type": "code",
   "execution_count": 24,
   "metadata": {},
   "outputs": [],
   "source": [
    "\n",
    "df = pd.read_csv('output/embedded_1k_reviews.csv')\n",
    "df['ada_embedding'] = df.ada_embedding.apply(eval).apply(np.array)"
   ]
  },
  {
   "cell_type": "code",
   "execution_count": 25,
   "metadata": {},
   "outputs": [
    {
     "data": {
      "text/html": [
       "<div>\n",
       "<style scoped>\n",
       "    .dataframe tbody tr th:only-of-type {\n",
       "        vertical-align: middle;\n",
       "    }\n",
       "\n",
       "    .dataframe tbody tr th {\n",
       "        vertical-align: top;\n",
       "    }\n",
       "\n",
       "    .dataframe thead th {\n",
       "        text-align: right;\n",
       "    }\n",
       "</style>\n",
       "<table border=\"1\" class=\"dataframe\">\n",
       "  <thead>\n",
       "    <tr style=\"text-align: right;\">\n",
       "      <th></th>\n",
       "      <th>Time</th>\n",
       "      <th>ProductId</th>\n",
       "      <th>UserId</th>\n",
       "      <th>Score</th>\n",
       "      <th>Summary</th>\n",
       "      <th>Text</th>\n",
       "      <th>combined</th>\n",
       "      <th>ada_embedding</th>\n",
       "    </tr>\n",
       "  </thead>\n",
       "  <tbody>\n",
       "    <tr>\n",
       "      <th>0</th>\n",
       "      <td>1351123200</td>\n",
       "      <td>B003XPF9BO</td>\n",
       "      <td>A3R7JR3FMEBXQB</td>\n",
       "      <td>5</td>\n",
       "      <td>where does one  start...and stop... with a tre...</td>\n",
       "      <td>Wanted to save some to bring to my Chicago fam...</td>\n",
       "      <td>where does one  start...and stop... with a tre...</td>\n",
       "      <td>[0.03193098306655884, -0.017797598615288734, -...</td>\n",
       "    </tr>\n",
       "    <tr>\n",
       "      <th>1</th>\n",
       "      <td>1351123200</td>\n",
       "      <td>B003JK537S</td>\n",
       "      <td>A3JBPC3WFUT5ZP</td>\n",
       "      <td>1</td>\n",
       "      <td>Arrived in pieces</td>\n",
       "      <td>Not pleased at all. When I opened the box, mos...</td>\n",
       "      <td>Arrived in pieces Not pleased at all. When I o...</td>\n",
       "      <td>[0.010076633654534817, 0.04017351195216179, -0...</td>\n",
       "    </tr>\n",
       "    <tr>\n",
       "      <th>2</th>\n",
       "      <td>1351123200</td>\n",
       "      <td>B000JMBE7M</td>\n",
       "      <td>AQX1N6A51QOKG</td>\n",
       "      <td>4</td>\n",
       "      <td>It isn't blanc mange, but isn't bad . . .</td>\n",
       "      <td>I'm not sure that custard is really custard wi...</td>\n",
       "      <td>It isn't blanc mange, but isn't bad . . . I'm ...</td>\n",
       "      <td>[0.001554574933834374, 0.004289799369871616, -...</td>\n",
       "    </tr>\n",
       "    <tr>\n",
       "      <th>3</th>\n",
       "      <td>1351123200</td>\n",
       "      <td>B004AHGBX4</td>\n",
       "      <td>A2UY46X0OSNVUQ</td>\n",
       "      <td>3</td>\n",
       "      <td>These also have SALT and it's not sea salt.</td>\n",
       "      <td>I like the fact that you can see what you're g...</td>\n",
       "      <td>These also have SALT and it's not sea salt. I ...</td>\n",
       "      <td>[-0.01524321362376213, 0.012734594754874706, -...</td>\n",
       "    </tr>\n",
       "    <tr>\n",
       "      <th>4</th>\n",
       "      <td>1351123200</td>\n",
       "      <td>B001BORBHO</td>\n",
       "      <td>A1AFOYZ9HSM2CZ</td>\n",
       "      <td>5</td>\n",
       "      <td>Happy with the product</td>\n",
       "      <td>My dog was suffering with itchy skin.  He had ...</td>\n",
       "      <td>Happy with the product My dog was suffering wi...</td>\n",
       "      <td>[0.0017268205992877483, -0.06780694425106049, ...</td>\n",
       "    </tr>\n",
       "  </tbody>\n",
       "</table>\n",
       "</div>"
      ],
      "text/plain": [
       "         Time   ProductId          UserId  Score  \\\n",
       "0  1351123200  B003XPF9BO  A3R7JR3FMEBXQB      5   \n",
       "1  1351123200  B003JK537S  A3JBPC3WFUT5ZP      1   \n",
       "2  1351123200  B000JMBE7M   AQX1N6A51QOKG      4   \n",
       "3  1351123200  B004AHGBX4  A2UY46X0OSNVUQ      3   \n",
       "4  1351123200  B001BORBHO  A1AFOYZ9HSM2CZ      5   \n",
       "\n",
       "                                             Summary  \\\n",
       "0  where does one  start...and stop... with a tre...   \n",
       "1                                  Arrived in pieces   \n",
       "2          It isn't blanc mange, but isn't bad . . .   \n",
       "3        These also have SALT and it's not sea salt.   \n",
       "4                             Happy with the product   \n",
       "\n",
       "                                                Text  \\\n",
       "0  Wanted to save some to bring to my Chicago fam...   \n",
       "1  Not pleased at all. When I opened the box, mos...   \n",
       "2  I'm not sure that custard is really custard wi...   \n",
       "3  I like the fact that you can see what you're g...   \n",
       "4  My dog was suffering with itchy skin.  He had ...   \n",
       "\n",
       "                                            combined  \\\n",
       "0  where does one  start...and stop... with a tre...   \n",
       "1  Arrived in pieces Not pleased at all. When I o...   \n",
       "2  It isn't blanc mange, but isn't bad . . . I'm ...   \n",
       "3  These also have SALT and it's not sea salt. I ...   \n",
       "4  Happy with the product My dog was suffering wi...   \n",
       "\n",
       "                                       ada_embedding  \n",
       "0  [0.03193098306655884, -0.017797598615288734, -...  \n",
       "1  [0.010076633654534817, 0.04017351195216179, -0...  \n",
       "2  [0.001554574933834374, 0.004289799369871616, -...  \n",
       "3  [-0.01524321362376213, 0.012734594754874706, -...  \n",
       "4  [0.0017268205992877483, -0.06780694425106049, ...  "
      ]
     },
     "execution_count": 25,
     "metadata": {},
     "output_type": "execute_result"
    }
   ],
   "source": [
    "df.head()"
   ]
  }
 ],
 "metadata": {
  "kernelspec": {
   "display_name": "openai-env",
   "language": "python",
   "name": "python3"
  },
  "language_info": {
   "codemirror_mode": {
    "name": "ipython",
    "version": 3
   },
   "file_extension": ".py",
   "mimetype": "text/x-python",
   "name": "python",
   "nbconvert_exporter": "python",
   "pygments_lexer": "ipython3",
   "version": "3.11.7"
  }
 },
 "nbformat": 4,
 "nbformat_minor": 2
}
